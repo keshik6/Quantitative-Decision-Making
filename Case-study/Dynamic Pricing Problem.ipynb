{
 "cells": [
  {
   "cell_type": "markdown",
   "metadata": {},
   "source": [
    "<h1><center>TU BERLIN SUMMER UNIVERSITY 2018</center></h1>\n",
    "<h1><center>QUANTITATIVE DECISION MAKING FOR BUSINESS OPERATIONS</center></h1>\n",
    "\n",
    "<h2><center>Case Study : Dynamic Pricing Problem for Revenue Management</center></h2>\n",
    "\n",
    "<p> In the past Air Innovation used a standard EMSR-a booking policy to control their ticket sale. But like its name says, they want to be pioneer on innovative market and sales strategies. In the name of fighting their competitors Air Innovation thinks about possibilities to better exploit customers’ willingness-to-pay and in this way to secure their market position.</p>"
   ]
  },
  {
   "cell_type": "code",
   "execution_count": 91,
   "metadata": {
    "collapsed": true
   },
   "outputs": [],
   "source": [
    "# Load the relevant libraries\n",
    "import pandas as pd \n",
    "from sklearn.utils import shuffle\n",
    "import matplotlib.pyplot as plt\n",
    "import numpy as np\n",
    "import scipy.stats as sp\n"
   ]
  },
  {
   "cell_type": "code",
   "execution_count": 92,
   "metadata": {},
   "outputs": [
    {
     "name": "stdout",
     "output_type": "stream",
     "text": [
      "   demand  P(d >= demand|Class 1)  P(d >= demand|Class 2)  \\\n",
      "0       1                0.982489                0.999936   \n",
      "1       2                0.966957                0.999814   \n",
      "2       3                0.941509                0.999498   \n",
      "3       4                0.902736                0.998732   \n",
      "4       5                0.847796                0.997008   \n",
      "\n",
      "   P(d >= demand|Class 3)  Revenue_Class1  Revenue_Class2  Revenue_Class3  \n",
      "0                0.999996      491.244590      289.981399      249.999095  \n",
      "1                0.999988      483.478424      289.946115      249.996895  \n",
      "2                0.999960      470.754478      289.854309      249.990064  \n",
      "3                0.999881      451.367772      289.632166      249.970347  \n",
      "4                0.999670      423.898066      289.132298      249.917418  \n",
      "    demand  P(d >= demand|Class 1)  P(d >= demand|Class 2)  \\\n",
      "95      96                     0.0                     0.0   \n",
      "96      97                     0.0                     0.0   \n",
      "97      98                     0.0                     0.0   \n",
      "98      99                     0.0                     0.0   \n",
      "99     100                     0.0                     0.0   \n",
      "\n",
      "    P(d >= demand|Class 3)  Revenue_Class1  Revenue_Class2  Revenue_Class3  \n",
      "95                     0.0             0.0             0.0             0.0  \n",
      "96                     0.0             0.0             0.0             0.0  \n",
      "97                     0.0             0.0             0.0             0.0  \n",
      "98                     0.0             0.0             0.0             0.0  \n",
      "99                     0.0             0.0             0.0             0.0  \n",
      "\n",
      "Protection Level between Class 1 and 2 = 8\n",
      "Protection Level between Class 1 and 3 = 8\n",
      "Protection Level between Class 1 and 4 = 9\n",
      "Protection Level between Class 2 and 3 = 11\n",
      "Protection Level between Class 2 and 4 = 13\n",
      "Protection Level between Class 3 and 4 = 14\n"
     ]
    },
    {
     "data": {
      "image/png": "[encoded data removed]",
      "text/plain": [
       "<matplotlib.figure.Figure at 0x1e59d8f3588>"
      ]
     },
     "metadata": {},
     "output_type": "display_data"
    }
   ],
   "source": [
    "# Route -> TFS - FUE \n",
    "# Expected Marginal Seat Revenue\n",
    "# All the demand curves follow a normal distribution\n",
    "\n",
    "# Parameters\n",
    "seatCapacity = 100\n",
    "numberOfClasses = 4;\n",
    "fares = [500, 290, 250, 205]\n",
    "min_fare = 25\n",
    "max_fare = 4400\n",
    "distributionParameters = [(8.8, 3.7), (15.17, 3.7), (17.6, 3.7)]\n",
    "\n",
    "# Create dataframe to calculate probabilities, expected revenues and protection levels\n",
    "df = pd.DataFrame(columns=['demand', 'P(d >= demand|Class 1)', 'P(d >= demand|Class 2)', 'P(d >= demand|Class 3)', \n",
    "                          'Revenue_Class1', 'Revenue_Class2', 'Revenue_Class3'])\n",
    "\n",
    "# form the demand list\n",
    "capacity = []\n",
    "for i in range(1, seatCapacity+1):\n",
    "    capacity.append(i)\n",
    "\n",
    "# Assign the capacity vecotr as demand\n",
    "df['demand'] = capacity\n",
    "\n",
    "for i in range(0,3):\n",
    "    probVector = []\n",
    "    revenueVector = []\n",
    "    meanVal = distributionParameters[i][0]\n",
    "    stdDev = distributionParameters[i][1]\n",
    "    fare = fares[i]\n",
    "    for j in range(0,seatCapacity):\n",
    "        distNor = sp.norm(meanVal, stdDev)\n",
    "        prob = 1- distNor.cdf(df['demand'][j])\n",
    "        probVector.append(prob)\n",
    "        revenueVector.append(prob*fare)\n",
    "    cl1_name = \"P(d >= demand|Class \" + str(i+1) + \")\"\n",
    "    cl2_name = \"Revenue_Class\" + str(i+1)\n",
    "    df[cl1_name] = probVector;\n",
    "    df[cl2_name] = revenueVector;\n",
    "    \n",
    "\n",
    "# print the head and tails of the dataframe\n",
    "print(df.head())\n",
    "print(df.tail())\n",
    "\n",
    "# function to determine the protection levels\n",
    "def getProtectionLevels(class1_num, class2_num):\n",
    "    cl1_name = \"Revenue_Class\" + str(class1_num)\n",
    "    cl2_name = \"Revenue_Class\" + str(class2_num)\n",
    "    \n",
    "    pLevel = -1\n",
    "    for j in range(0, seatCapacity-1):\n",
    "        comFare = fares[class2_num-1]\n",
    "        if (comFare < df[cl1_name][j] and comFare >= df[cl1_name][j+1]):\n",
    "            pLevel = j;\n",
    "            break;\n",
    "    \n",
    "    return j+1;\n",
    "\n",
    "\n",
    "pl1_ag_2 = getProtectionLevels(1,2)\n",
    "pl1_ag_3 = getProtectionLevels(1,3)\n",
    "pl1_ag_4 = getProtectionLevels(1,4)\n",
    "pl2_ag_3 = getProtectionLevels(2,3)\n",
    "pl2_ag_4 = getProtectionLevels(2,4)\n",
    "pl3_ag_4 = getProtectionLevels(3,4)\n",
    "\n",
    "print(\"\\nProtection Level between Class 1 and 2 =\", pl1_ag_2)\n",
    "print(\"Protection Level between Class 1 and 3 =\", pl1_ag_3)\n",
    "print(\"Protection Level between Class 1 and 4 =\", pl1_ag_4)\n",
    "print(\"Protection Level between Class 2 and 3 =\", pl2_ag_3)\n",
    "print(\"Protection Level between Class 2 and 4 =\", pl2_ag_4)\n",
    "print(\"Protection Level between Class 3 and 4 =\", pl3_ag_4)\n",
    "\n",
    "# Plot the expected revenues\n",
    "plt.plot(df['demand'], df['Revenue_Class1'], label='Class 1')\n",
    "plt.plot(df['demand'], df['Revenue_Class2'], label='Class 2')\n",
    "plt.plot(df['demand'], df['Revenue_Class3'], label='Class 3')\n",
    "plt.legend()\n",
    "plt.show()\n"
   ]
  },
  {
   "cell_type": "code",
   "execution_count": null,
   "metadata": {
    "collapsed": true
   },
   "outputs": [],
   "source": []
  }
 ],
 "metadata": {
  "kernelspec": {
   "display_name": "Python 3",
   "language": "python",
   "name": "python3"
  },
  "language_info": {
   "codemirror_mode": {
    "name": "ipython",
    "version": 3
   },
   "file_extension": ".py",
   "mimetype": "text/x-python",
   "name": "python",
   "nbconvert_exporter": "python",
   "pygments_lexer": "ipython3",
   "version": "3.6.2"
  }
 },
 "nbformat": 4,
 "nbformat_minor": 2
}
